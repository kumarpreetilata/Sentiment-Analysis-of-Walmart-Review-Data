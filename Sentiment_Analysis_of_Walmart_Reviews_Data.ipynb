{
  "nbformat": 4,
  "nbformat_minor": 0,
  "metadata": {
    "colab": {
      "provenance": []
    },
    "kernelspec": {
      "name": "python3",
      "display_name": "Python 3"
    },
    "language_info": {
      "name": "python"
    }
  },
  "cells": [
    {
      "cell_type": "markdown",
      "source": [
        "In this project we are going to do Unsupervised Sentiment Analysis of Walmart Reviews Data. We will first preprocess the data, check for misspelled words, unrelevant words and stop words and will remove them. Further, we will lemmetise the text (transform the word to its root word). Next, we will perform sentimental analysis and try to explore the data based on sentiments and location etc attributes and plot the insights."
      ],
      "metadata": {
        "id": "Tw0egKbJACYG"
      }
    },
    {
      "cell_type": "markdown",
      "source": [
        "# Loading Data from Google Drive"
      ],
      "metadata": {
        "id": "cbCUdE3s_174"
      }
    },
    {
      "cell_type": "code",
      "execution_count": 1,
      "metadata": {
        "id": "TcjDfi2M-MYt",
        "colab": {
          "base_uri": "https://localhost:8080/"
        },
        "outputId": "e4f0ed90-7d91-46cf-ecfd-e8b082d6e8d6"
      },
      "outputs": [
        {
          "output_type": "stream",
          "name": "stdout",
          "text": [
            "Drive already mounted at /content/drive; to attempt to forcibly remount, call drive.mount(\"/content/drive\", force_remount=True).\n"
          ]
        }
      ],
      "source": [
        "from google.colab import drive #loading data from google drive\n",
        "drive.mount('/content/drive')"
      ]
    },
    {
      "cell_type": "code",
      "source": [
        "import numpy as np\n",
        "import os\n",
        "import pandas as pd\n"
      ],
      "metadata": {
        "id": "L6tgtzsx-qJ1"
      },
      "execution_count": 2,
      "outputs": []
    },
    {
      "cell_type": "markdown",
      "source": [
        "Lets check, which files are available in our directory."
      ],
      "metadata": {
        "id": "GUIVZ9QOBFQz"
      }
    },
    {
      "cell_type": "code",
      "source": [
        "\n",
        "os.chdir(\"/content/drive/MyDrive/datasets/\")\n",
        "!ls"
      ],
      "metadata": {
        "colab": {
          "base_uri": "https://localhost:8080/"
        },
        "id": "Dz13Vr5rEdGX",
        "outputId": "be06bba9-19b8-4f61-c44c-db3f4cd74313"
      },
      "execution_count": 3,
      "outputs": [
        {
          "output_type": "stream",
          "name": "stdout",
          "text": [
            " AirQuality.csv   bearings.gsheet      full_data.gsheet\t\t   myfile.csv\t   tracks.csv\n",
            " answer.csv\t  dataset.csv.gsheet  'Healthcare Providers.csv'   myfile.gsheet\n"
          ]
        }
      ]
    },
    {
      "cell_type": "markdown",
      "source": [
        "Reading data into dataframe"
      ],
      "metadata": {
        "id": "CgMIOxtDBOpI"
      }
    },
    {
      "cell_type": "code",
      "source": [
        "path='/content/drive/MyDrive/datasets/myfile.csv'\n",
        "data=pd.read_csv('/content/drive/MyDrive/datasets/myfile.csv') #reading dataset\n",
        "data.head()"
      ],
      "metadata": {
        "colab": {
          "base_uri": "https://localhost:8080/",
          "height": 206
        },
        "id": "7y58QsUoJXEo",
        "outputId": "038b9ff7-f1ab-4e14-e754-6a2bccd5aab9"
      },
      "execution_count": 4,
      "outputs": [
        {
          "output_type": "execute_result",
          "data": {
            "text/plain": [
              "      name         location                     Date  Rating  \\\n",
              "0       A.       Ankeny, IA  Reviewed Sept. 13, 2023       1   \n",
              "1    DONNA      Phoenix, AZ   Reviewed Sept. 2, 2023       1   \n",
              "2     Jill  Baton Rouge, LA   Reviewed Aug. 28, 2023       1   \n",
              "3  Sukanya       Maumee, OH   Reviewed Aug. 25, 2023       1   \n",
              "4  Tiffany   Laurinburg, NC   Reviewed Aug. 18, 2023       1   \n",
              "\n",
              "                                              Review  \\\n",
              "0  The customer service is very bad. I bought a B...   \n",
              "1  I have attempted to put this review on Walmart...   \n",
              "2  I have been a Walmart plus member for years no...   \n",
              "3  I refused a living room set that they sent one...   \n",
              "4  Beware!! Practices discriminatory/preferential...   \n",
              "\n",
              "                                         Image_Links  \n",
              "0                                      ['No Images']  \n",
              "1  ['https://media.consumeraffairs.com/files/cach...  \n",
              "2  ['https://media.consumeraffairs.com/files/cach...  \n",
              "3                                      ['No Images']  \n",
              "4                                      ['No Images']  "
            ],
            "text/html": [
              "\n",
              "  <div id=\"df-14f11e1a-36e2-435c-8929-8b84cfad08a1\" class=\"colab-df-container\">\n",
              "    <div>\n",
              "<style scoped>\n",
              "    .dataframe tbody tr th:only-of-type {\n",
              "        vertical-align: middle;\n",
              "    }\n",
              "\n",
              "    .dataframe tbody tr th {\n",
              "        vertical-align: top;\n",
              "    }\n",
              "\n",
              "    .dataframe thead th {\n",
              "        text-align: right;\n",
              "    }\n",
              "</style>\n",
              "<table border=\"1\" class=\"dataframe\">\n",
              "  <thead>\n",
              "    <tr style=\"text-align: right;\">\n",
              "      <th></th>\n",
              "      <th>name</th>\n",
              "      <th>location</th>\n",
              "      <th>Date</th>\n",
              "      <th>Rating</th>\n",
              "      <th>Review</th>\n",
              "      <th>Image_Links</th>\n",
              "    </tr>\n",
              "  </thead>\n",
              "  <tbody>\n",
              "    <tr>\n",
              "      <th>0</th>\n",
              "      <td>A.</td>\n",
              "      <td>Ankeny, IA</td>\n",
              "      <td>Reviewed Sept. 13, 2023</td>\n",
              "      <td>1</td>\n",
              "      <td>The customer service is very bad. I bought a B...</td>\n",
              "      <td>['No Images']</td>\n",
              "    </tr>\n",
              "    <tr>\n",
              "      <th>1</th>\n",
              "      <td>DONNA</td>\n",
              "      <td>Phoenix, AZ</td>\n",
              "      <td>Reviewed Sept. 2, 2023</td>\n",
              "      <td>1</td>\n",
              "      <td>I have attempted to put this review on Walmart...</td>\n",
              "      <td>['https://media.consumeraffairs.com/files/cach...</td>\n",
              "    </tr>\n",
              "    <tr>\n",
              "      <th>2</th>\n",
              "      <td>Jill</td>\n",
              "      <td>Baton Rouge, LA</td>\n",
              "      <td>Reviewed Aug. 28, 2023</td>\n",
              "      <td>1</td>\n",
              "      <td>I have been a Walmart plus member for years no...</td>\n",
              "      <td>['https://media.consumeraffairs.com/files/cach...</td>\n",
              "    </tr>\n",
              "    <tr>\n",
              "      <th>3</th>\n",
              "      <td>Sukanya</td>\n",
              "      <td>Maumee, OH</td>\n",
              "      <td>Reviewed Aug. 25, 2023</td>\n",
              "      <td>1</td>\n",
              "      <td>I refused a living room set that they sent one...</td>\n",
              "      <td>['No Images']</td>\n",
              "    </tr>\n",
              "    <tr>\n",
              "      <th>4</th>\n",
              "      <td>Tiffany</td>\n",
              "      <td>Laurinburg, NC</td>\n",
              "      <td>Reviewed Aug. 18, 2023</td>\n",
              "      <td>1</td>\n",
              "      <td>Beware!! Practices discriminatory/preferential...</td>\n",
              "      <td>['No Images']</td>\n",
              "    </tr>\n",
              "  </tbody>\n",
              "</table>\n",
              "</div>\n",
              "    <div class=\"colab-df-buttons\">\n",
              "\n",
              "  <div class=\"colab-df-container\">\n",
              "    <button class=\"colab-df-convert\" onclick=\"convertToInteractive('df-14f11e1a-36e2-435c-8929-8b84cfad08a1')\"\n",
              "            title=\"Convert this dataframe to an interactive table.\"\n",
              "            style=\"display:none;\">\n",
              "\n",
              "  <svg xmlns=\"http://www.w3.org/2000/svg\" height=\"24px\" viewBox=\"0 -960 960 960\">\n",
              "    <path d=\"M120-120v-720h720v720H120Zm60-500h600v-160H180v160Zm220 220h160v-160H400v160Zm0 220h160v-160H400v160ZM180-400h160v-160H180v160Zm440 0h160v-160H620v160ZM180-180h160v-160H180v160Zm440 0h160v-160H620v160Z\"/>\n",
              "  </svg>\n",
              "    </button>\n",
              "\n",
              "  <style>\n",
              "    .colab-df-container {\n",
              "      display:flex;\n",
              "      gap: 12px;\n",
              "    }\n",
              "\n",
              "    .colab-df-convert {\n",
              "      background-color: #E8F0FE;\n",
              "      border: none;\n",
              "      border-radius: 50%;\n",
              "      cursor: pointer;\n",
              "      display: none;\n",
              "      fill: #1967D2;\n",
              "      height: 32px;\n",
              "      padding: 0 0 0 0;\n",
              "      width: 32px;\n",
              "    }\n",
              "\n",
              "    .colab-df-convert:hover {\n",
              "      background-color: #E2EBFA;\n",
              "      box-shadow: 0px 1px 2px rgba(60, 64, 67, 0.3), 0px 1px 3px 1px rgba(60, 64, 67, 0.15);\n",
              "      fill: #174EA6;\n",
              "    }\n",
              "\n",
              "    .colab-df-buttons div {\n",
              "      margin-bottom: 4px;\n",
              "    }\n",
              "\n",
              "    [theme=dark] .colab-df-convert {\n",
              "      background-color: #3B4455;\n",
              "      fill: #D2E3FC;\n",
              "    }\n",
              "\n",
              "    [theme=dark] .colab-df-convert:hover {\n",
              "      background-color: #434B5C;\n",
              "      box-shadow: 0px 1px 3px 1px rgba(0, 0, 0, 0.15);\n",
              "      filter: drop-shadow(0px 1px 2px rgba(0, 0, 0, 0.3));\n",
              "      fill: #FFFFFF;\n",
              "    }\n",
              "  </style>\n",
              "\n",
              "    <script>\n",
              "      const buttonEl =\n",
              "        document.querySelector('#df-14f11e1a-36e2-435c-8929-8b84cfad08a1 button.colab-df-convert');\n",
              "      buttonEl.style.display =\n",
              "        google.colab.kernel.accessAllowed ? 'block' : 'none';\n",
              "\n",
              "      async function convertToInteractive(key) {\n",
              "        const element = document.querySelector('#df-14f11e1a-36e2-435c-8929-8b84cfad08a1');\n",
              "        const dataTable =\n",
              "          await google.colab.kernel.invokeFunction('convertToInteractive',\n",
              "                                                    [key], {});\n",
              "        if (!dataTable) return;\n",
              "\n",
              "        const docLinkHtml = 'Like what you see? Visit the ' +\n",
              "          '<a target=\"_blank\" href=https://colab.research.google.com/notebooks/data_table.ipynb>data table notebook</a>'\n",
              "          + ' to learn more about interactive tables.';\n",
              "        element.innerHTML = '';\n",
              "        dataTable['output_type'] = 'display_data';\n",
              "        await google.colab.output.renderOutput(dataTable, element);\n",
              "        const docLink = document.createElement('div');\n",
              "        docLink.innerHTML = docLinkHtml;\n",
              "        element.appendChild(docLink);\n",
              "      }\n",
              "    </script>\n",
              "  </div>\n",
              "\n",
              "\n",
              "<div id=\"df-8925f6a1-8944-4e83-98ba-af09e4226268\">\n",
              "  <button class=\"colab-df-quickchart\" onclick=\"quickchart('df-8925f6a1-8944-4e83-98ba-af09e4226268')\"\n",
              "            title=\"Suggest charts\"\n",
              "            style=\"display:none;\">\n",
              "\n",
              "<svg xmlns=\"http://www.w3.org/2000/svg\" height=\"24px\"viewBox=\"0 0 24 24\"\n",
              "     width=\"24px\">\n",
              "    <g>\n",
              "        <path d=\"M19 3H5c-1.1 0-2 .9-2 2v14c0 1.1.9 2 2 2h14c1.1 0 2-.9 2-2V5c0-1.1-.9-2-2-2zM9 17H7v-7h2v7zm4 0h-2V7h2v10zm4 0h-2v-4h2v4z\"/>\n",
              "    </g>\n",
              "</svg>\n",
              "  </button>\n",
              "\n",
              "<style>\n",
              "  .colab-df-quickchart {\n",
              "      --bg-color: #E8F0FE;\n",
              "      --fill-color: #1967D2;\n",
              "      --hover-bg-color: #E2EBFA;\n",
              "      --hover-fill-color: #174EA6;\n",
              "      --disabled-fill-color: #AAA;\n",
              "      --disabled-bg-color: #DDD;\n",
              "  }\n",
              "\n",
              "  [theme=dark] .colab-df-quickchart {\n",
              "      --bg-color: #3B4455;\n",
              "      --fill-color: #D2E3FC;\n",
              "      --hover-bg-color: #434B5C;\n",
              "      --hover-fill-color: #FFFFFF;\n",
              "      --disabled-bg-color: #3B4455;\n",
              "      --disabled-fill-color: #666;\n",
              "  }\n",
              "\n",
              "  .colab-df-quickchart {\n",
              "    background-color: var(--bg-color);\n",
              "    border: none;\n",
              "    border-radius: 50%;\n",
              "    cursor: pointer;\n",
              "    display: none;\n",
              "    fill: var(--fill-color);\n",
              "    height: 32px;\n",
              "    padding: 0;\n",
              "    width: 32px;\n",
              "  }\n",
              "\n",
              "  .colab-df-quickchart:hover {\n",
              "    background-color: var(--hover-bg-color);\n",
              "    box-shadow: 0 1px 2px rgba(60, 64, 67, 0.3), 0 1px 3px 1px rgba(60, 64, 67, 0.15);\n",
              "    fill: var(--button-hover-fill-color);\n",
              "  }\n",
              "\n",
              "  .colab-df-quickchart-complete:disabled,\n",
              "  .colab-df-quickchart-complete:disabled:hover {\n",
              "    background-color: var(--disabled-bg-color);\n",
              "    fill: var(--disabled-fill-color);\n",
              "    box-shadow: none;\n",
              "  }\n",
              "\n",
              "  .colab-df-spinner {\n",
              "    border: 2px solid var(--fill-color);\n",
              "    border-color: transparent;\n",
              "    border-bottom-color: var(--fill-color);\n",
              "    animation:\n",
              "      spin 1s steps(1) infinite;\n",
              "  }\n",
              "\n",
              "  @keyframes spin {\n",
              "    0% {\n",
              "      border-color: transparent;\n",
              "      border-bottom-color: var(--fill-color);\n",
              "      border-left-color: var(--fill-color);\n",
              "    }\n",
              "    20% {\n",
              "      border-color: transparent;\n",
              "      border-left-color: var(--fill-color);\n",
              "      border-top-color: var(--fill-color);\n",
              "    }\n",
              "    30% {\n",
              "      border-color: transparent;\n",
              "      border-left-color: var(--fill-color);\n",
              "      border-top-color: var(--fill-color);\n",
              "      border-right-color: var(--fill-color);\n",
              "    }\n",
              "    40% {\n",
              "      border-color: transparent;\n",
              "      border-right-color: var(--fill-color);\n",
              "      border-top-color: var(--fill-color);\n",
              "    }\n",
              "    60% {\n",
              "      border-color: transparent;\n",
              "      border-right-color: var(--fill-color);\n",
              "    }\n",
              "    80% {\n",
              "      border-color: transparent;\n",
              "      border-right-color: var(--fill-color);\n",
              "      border-bottom-color: var(--fill-color);\n",
              "    }\n",
              "    90% {\n",
              "      border-color: transparent;\n",
              "      border-bottom-color: var(--fill-color);\n",
              "    }\n",
              "  }\n",
              "</style>\n",
              "\n",
              "  <script>\n",
              "    async function quickchart(key) {\n",
              "      const quickchartButtonEl =\n",
              "        document.querySelector('#' + key + ' button');\n",
              "      quickchartButtonEl.disabled = true;  // To prevent multiple clicks.\n",
              "      quickchartButtonEl.classList.add('colab-df-spinner');\n",
              "      try {\n",
              "        const charts = await google.colab.kernel.invokeFunction(\n",
              "            'suggestCharts', [key], {});\n",
              "      } catch (error) {\n",
              "        console.error('Error during call to suggestCharts:', error);\n",
              "      }\n",
              "      quickchartButtonEl.classList.remove('colab-df-spinner');\n",
              "      quickchartButtonEl.classList.add('colab-df-quickchart-complete');\n",
              "    }\n",
              "    (() => {\n",
              "      let quickchartButtonEl =\n",
              "        document.querySelector('#df-8925f6a1-8944-4e83-98ba-af09e4226268 button');\n",
              "      quickchartButtonEl.style.display =\n",
              "        google.colab.kernel.accessAllowed ? 'block' : 'none';\n",
              "    })();\n",
              "  </script>\n",
              "</div>\n",
              "    </div>\n",
              "  </div>\n"
            ]
          },
          "metadata": {},
          "execution_count": 4
        }
      ]
    },
    {
      "cell_type": "markdown",
      "source": [
        "Removing unrelevant column. (the image column can be useful for the analysis, but to keep the project simple and only based on text, lets not include image column)."
      ],
      "metadata": {
        "id": "n2ngO9BKBT1m"
      }
    },
    {
      "cell_type": "code",
      "source": [
        "df = data.drop('Image_Links', axis=1)\n",
        "df.head()"
      ],
      "metadata": {
        "colab": {
          "base_uri": "https://localhost:8080/",
          "height": 206
        },
        "id": "PyZ_ovNMPbXN",
        "outputId": "5d0e4253-bd54-44c5-e9fd-62746df86fd2"
      },
      "execution_count": 5,
      "outputs": [
        {
          "output_type": "execute_result",
          "data": {
            "text/plain": [
              "      name         location                     Date  Rating  \\\n",
              "0       A.       Ankeny, IA  Reviewed Sept. 13, 2023       1   \n",
              "1    DONNA      Phoenix, AZ   Reviewed Sept. 2, 2023       1   \n",
              "2     Jill  Baton Rouge, LA   Reviewed Aug. 28, 2023       1   \n",
              "3  Sukanya       Maumee, OH   Reviewed Aug. 25, 2023       1   \n",
              "4  Tiffany   Laurinburg, NC   Reviewed Aug. 18, 2023       1   \n",
              "\n",
              "                                              Review  \n",
              "0  The customer service is very bad. I bought a B...  \n",
              "1  I have attempted to put this review on Walmart...  \n",
              "2  I have been a Walmart plus member for years no...  \n",
              "3  I refused a living room set that they sent one...  \n",
              "4  Beware!! Practices discriminatory/preferential...  "
            ],
            "text/html": [
              "\n",
              "  <div id=\"df-9a20cfe6-7b50-405a-821d-40e52f02be4a\" class=\"colab-df-container\">\n",
              "    <div>\n",
              "<style scoped>\n",
              "    .dataframe tbody tr th:only-of-type {\n",
              "        vertical-align: middle;\n",
              "    }\n",
              "\n",
              "    .dataframe tbody tr th {\n",
              "        vertical-align: top;\n",
              "    }\n",
              "\n",
              "    .dataframe thead th {\n",
              "        text-align: right;\n",
              "    }\n",
              "</style>\n",
              "<table border=\"1\" class=\"dataframe\">\n",
              "  <thead>\n",
              "    <tr style=\"text-align: right;\">\n",
              "      <th></th>\n",
              "      <th>name</th>\n",
              "      <th>location</th>\n",
              "      <th>Date</th>\n",
              "      <th>Rating</th>\n",
              "      <th>Review</th>\n",
              "    </tr>\n",
              "  </thead>\n",
              "  <tbody>\n",
              "    <tr>\n",
              "      <th>0</th>\n",
              "      <td>A.</td>\n",
              "      <td>Ankeny, IA</td>\n",
              "      <td>Reviewed Sept. 13, 2023</td>\n",
              "      <td>1</td>\n",
              "      <td>The customer service is very bad. I bought a B...</td>\n",
              "    </tr>\n",
              "    <tr>\n",
              "      <th>1</th>\n",
              "      <td>DONNA</td>\n",
              "      <td>Phoenix, AZ</td>\n",
              "      <td>Reviewed Sept. 2, 2023</td>\n",
              "      <td>1</td>\n",
              "      <td>I have attempted to put this review on Walmart...</td>\n",
              "    </tr>\n",
              "    <tr>\n",
              "      <th>2</th>\n",
              "      <td>Jill</td>\n",
              "      <td>Baton Rouge, LA</td>\n",
              "      <td>Reviewed Aug. 28, 2023</td>\n",
              "      <td>1</td>\n",
              "      <td>I have been a Walmart plus member for years no...</td>\n",
              "    </tr>\n",
              "    <tr>\n",
              "      <th>3</th>\n",
              "      <td>Sukanya</td>\n",
              "      <td>Maumee, OH</td>\n",
              "      <td>Reviewed Aug. 25, 2023</td>\n",
              "      <td>1</td>\n",
              "      <td>I refused a living room set that they sent one...</td>\n",
              "    </tr>\n",
              "    <tr>\n",
              "      <th>4</th>\n",
              "      <td>Tiffany</td>\n",
              "      <td>Laurinburg, NC</td>\n",
              "      <td>Reviewed Aug. 18, 2023</td>\n",
              "      <td>1</td>\n",
              "      <td>Beware!! Practices discriminatory/preferential...</td>\n",
              "    </tr>\n",
              "  </tbody>\n",
              "</table>\n",
              "</div>\n",
              "    <div class=\"colab-df-buttons\">\n",
              "\n",
              "  <div class=\"colab-df-container\">\n",
              "    <button class=\"colab-df-convert\" onclick=\"convertToInteractive('df-9a20cfe6-7b50-405a-821d-40e52f02be4a')\"\n",
              "            title=\"Convert this dataframe to an interactive table.\"\n",
              "            style=\"display:none;\">\n",
              "\n",
              "  <svg xmlns=\"http://www.w3.org/2000/svg\" height=\"24px\" viewBox=\"0 -960 960 960\">\n",
              "    <path d=\"M120-120v-720h720v720H120Zm60-500h600v-160H180v160Zm220 220h160v-160H400v160Zm0 220h160v-160H400v160ZM180-400h160v-160H180v160Zm440 0h160v-160H620v160ZM180-180h160v-160H180v160Zm440 0h160v-160H620v160Z\"/>\n",
              "  </svg>\n",
              "    </button>\n",
              "\n",
              "  <style>\n",
              "    .colab-df-container {\n",
              "      display:flex;\n",
              "      gap: 12px;\n",
              "    }\n",
              "\n",
              "    .colab-df-convert {\n",
              "      background-color: #E8F0FE;\n",
              "      border: none;\n",
              "      border-radius: 50%;\n",
              "      cursor: pointer;\n",
              "      display: none;\n",
              "      fill: #1967D2;\n",
              "      height: 32px;\n",
              "      padding: 0 0 0 0;\n",
              "      width: 32px;\n",
              "    }\n",
              "\n",
              "    .colab-df-convert:hover {\n",
              "      background-color: #E2EBFA;\n",
              "      box-shadow: 0px 1px 2px rgba(60, 64, 67, 0.3), 0px 1px 3px 1px rgba(60, 64, 67, 0.15);\n",
              "      fill: #174EA6;\n",
              "    }\n",
              "\n",
              "    .colab-df-buttons div {\n",
              "      margin-bottom: 4px;\n",
              "    }\n",
              "\n",
              "    [theme=dark] .colab-df-convert {\n",
              "      background-color: #3B4455;\n",
              "      fill: #D2E3FC;\n",
              "    }\n",
              "\n",
              "    [theme=dark] .colab-df-convert:hover {\n",
              "      background-color: #434B5C;\n",
              "      box-shadow: 0px 1px 3px 1px rgba(0, 0, 0, 0.15);\n",
              "      filter: drop-shadow(0px 1px 2px rgba(0, 0, 0, 0.3));\n",
              "      fill: #FFFFFF;\n",
              "    }\n",
              "  </style>\n",
              "\n",
              "    <script>\n",
              "      const buttonEl =\n",
              "        document.querySelector('#df-9a20cfe6-7b50-405a-821d-40e52f02be4a button.colab-df-convert');\n",
              "      buttonEl.style.display =\n",
              "        google.colab.kernel.accessAllowed ? 'block' : 'none';\n",
              "\n",
              "      async function convertToInteractive(key) {\n",
              "        const element = document.querySelector('#df-9a20cfe6-7b50-405a-821d-40e52f02be4a');\n",
              "        const dataTable =\n",
              "          await google.colab.kernel.invokeFunction('convertToInteractive',\n",
              "                                                    [key], {});\n",
              "        if (!dataTable) return;\n",
              "\n",
              "        const docLinkHtml = 'Like what you see? Visit the ' +\n",
              "          '<a target=\"_blank\" href=https://colab.research.google.com/notebooks/data_table.ipynb>data table notebook</a>'\n",
              "          + ' to learn more about interactive tables.';\n",
              "        element.innerHTML = '';\n",
              "        dataTable['output_type'] = 'display_data';\n",
              "        await google.colab.output.renderOutput(dataTable, element);\n",
              "        const docLink = document.createElement('div');\n",
              "        docLink.innerHTML = docLinkHtml;\n",
              "        element.appendChild(docLink);\n",
              "      }\n",
              "    </script>\n",
              "  </div>\n",
              "\n",
              "\n",
              "<div id=\"df-94af0b21-551e-4aee-92d8-ec5d16290cdc\">\n",
              "  <button class=\"colab-df-quickchart\" onclick=\"quickchart('df-94af0b21-551e-4aee-92d8-ec5d16290cdc')\"\n",
              "            title=\"Suggest charts\"\n",
              "            style=\"display:none;\">\n",
              "\n",
              "<svg xmlns=\"http://www.w3.org/2000/svg\" height=\"24px\"viewBox=\"0 0 24 24\"\n",
              "     width=\"24px\">\n",
              "    <g>\n",
              "        <path d=\"M19 3H5c-1.1 0-2 .9-2 2v14c0 1.1.9 2 2 2h14c1.1 0 2-.9 2-2V5c0-1.1-.9-2-2-2zM9 17H7v-7h2v7zm4 0h-2V7h2v10zm4 0h-2v-4h2v4z\"/>\n",
              "    </g>\n",
              "</svg>\n",
              "  </button>\n",
              "\n",
              "<style>\n",
              "  .colab-df-quickchart {\n",
              "      --bg-color: #E8F0FE;\n",
              "      --fill-color: #1967D2;\n",
              "      --hover-bg-color: #E2EBFA;\n",
              "      --hover-fill-color: #174EA6;\n",
              "      --disabled-fill-color: #AAA;\n",
              "      --disabled-bg-color: #DDD;\n",
              "  }\n",
              "\n",
              "  [theme=dark] .colab-df-quickchart {\n",
              "      --bg-color: #3B4455;\n",
              "      --fill-color: #D2E3FC;\n",
              "      --hover-bg-color: #434B5C;\n",
              "      --hover-fill-color: #FFFFFF;\n",
              "      --disabled-bg-color: #3B4455;\n",
              "      --disabled-fill-color: #666;\n",
              "  }\n",
              "\n",
              "  .colab-df-quickchart {\n",
              "    background-color: var(--bg-color);\n",
              "    border: none;\n",
              "    border-radius: 50%;\n",
              "    cursor: pointer;\n",
              "    display: none;\n",
              "    fill: var(--fill-color);\n",
              "    height: 32px;\n",
              "    padding: 0;\n",
              "    width: 32px;\n",
              "  }\n",
              "\n",
              "  .colab-df-quickchart:hover {\n",
              "    background-color: var(--hover-bg-color);\n",
              "    box-shadow: 0 1px 2px rgba(60, 64, 67, 0.3), 0 1px 3px 1px rgba(60, 64, 67, 0.15);\n",
              "    fill: var(--button-hover-fill-color);\n",
              "  }\n",
              "\n",
              "  .colab-df-quickchart-complete:disabled,\n",
              "  .colab-df-quickchart-complete:disabled:hover {\n",
              "    background-color: var(--disabled-bg-color);\n",
              "    fill: var(--disabled-fill-color);\n",
              "    box-shadow: none;\n",
              "  }\n",
              "\n",
              "  .colab-df-spinner {\n",
              "    border: 2px solid var(--fill-color);\n",
              "    border-color: transparent;\n",
              "    border-bottom-color: var(--fill-color);\n",
              "    animation:\n",
              "      spin 1s steps(1) infinite;\n",
              "  }\n",
              "\n",
              "  @keyframes spin {\n",
              "    0% {\n",
              "      border-color: transparent;\n",
              "      border-bottom-color: var(--fill-color);\n",
              "      border-left-color: var(--fill-color);\n",
              "    }\n",
              "    20% {\n",
              "      border-color: transparent;\n",
              "      border-left-color: var(--fill-color);\n",
              "      border-top-color: var(--fill-color);\n",
              "    }\n",
              "    30% {\n",
              "      border-color: transparent;\n",
              "      border-left-color: var(--fill-color);\n",
              "      border-top-color: var(--fill-color);\n",
              "      border-right-color: var(--fill-color);\n",
              "    }\n",
              "    40% {\n",
              "      border-color: transparent;\n",
              "      border-right-color: var(--fill-color);\n",
              "      border-top-color: var(--fill-color);\n",
              "    }\n",
              "    60% {\n",
              "      border-color: transparent;\n",
              "      border-right-color: var(--fill-color);\n",
              "    }\n",
              "    80% {\n",
              "      border-color: transparent;\n",
              "      border-right-color: var(--fill-color);\n",
              "      border-bottom-color: var(--fill-color);\n",
              "    }\n",
              "    90% {\n",
              "      border-color: transparent;\n",
              "      border-bottom-color: var(--fill-color);\n",
              "    }\n",
              "  }\n",
              "</style>\n",
              "\n",
              "  <script>\n",
              "    async function quickchart(key) {\n",
              "      const quickchartButtonEl =\n",
              "        document.querySelector('#' + key + ' button');\n",
              "      quickchartButtonEl.disabled = true;  // To prevent multiple clicks.\n",
              "      quickchartButtonEl.classList.add('colab-df-spinner');\n",
              "      try {\n",
              "        const charts = await google.colab.kernel.invokeFunction(\n",
              "            'suggestCharts', [key], {});\n",
              "      } catch (error) {\n",
              "        console.error('Error during call to suggestCharts:', error);\n",
              "      }\n",
              "      quickchartButtonEl.classList.remove('colab-df-spinner');\n",
              "      quickchartButtonEl.classList.add('colab-df-quickchart-complete');\n",
              "    }\n",
              "    (() => {\n",
              "      let quickchartButtonEl =\n",
              "        document.querySelector('#df-94af0b21-551e-4aee-92d8-ec5d16290cdc button');\n",
              "      quickchartButtonEl.style.display =\n",
              "        google.colab.kernel.accessAllowed ? 'block' : 'none';\n",
              "    })();\n",
              "  </script>\n",
              "</div>\n",
              "    </div>\n",
              "  </div>\n"
            ]
          },
          "metadata": {},
          "execution_count": 5
        }
      ]
    },
    {
      "cell_type": "markdown",
      "source": [
        "Data Preprocessing:"
      ],
      "metadata": {
        "id": "0tvYQjAKBqfQ"
      }
    },
    {
      "cell_type": "code",
      "source": [
        "pip install pyspellchecker"
      ],
      "metadata": {
        "colab": {
          "base_uri": "https://localhost:8080/"
        },
        "id": "U-EOiFgFdJ15",
        "outputId": "8ff37fff-597d-472a-d699-5ab9c682fc3f"
      },
      "execution_count": 19,
      "outputs": [
        {
          "output_type": "stream",
          "name": "stdout",
          "text": [
            "shell-init: error retrieving current directory: getcwd: cannot access parent directories: Transport endpoint is not connected\n",
            "shell-init: error retrieving current directory: getcwd: cannot access parent directories: Transport endpoint is not connected\n",
            "Traceback (most recent call last):\n",
            "  File \"/usr/local/bin/pip3\", line 5, in <module>\n",
            "    from pip._internal.cli.main import main\n",
            "  File \"/usr/local/lib/python3.10/dist-packages/pip/_internal/cli/main.py\", line 10, in <module>\n",
            "    from pip._internal.cli.autocompletion import autocomplete\n",
            "  File \"/usr/local/lib/python3.10/dist-packages/pip/_internal/cli/autocompletion.py\", line 10, in <module>\n",
            "    from pip._internal.cli.main_parser import create_main_parser\n",
            "  File \"/usr/local/lib/python3.10/dist-packages/pip/_internal/cli/main_parser.py\", line 9, in <module>\n",
            "    from pip._internal.build_env import get_runnable_pip\n",
            "  File \"/usr/local/lib/python3.10/dist-packages/pip/_internal/build_env.py\", line 19, in <module>\n",
            "    from pip._internal.cli.spinners import open_spinner\n",
            "  File \"/usr/local/lib/python3.10/dist-packages/pip/_internal/cli/spinners.py\", line 9, in <module>\n",
            "    from pip._internal.utils.logging import get_indentation\n",
            "  File \"/usr/local/lib/python3.10/dist-packages/pip/_internal/utils/logging.py\", line 13, in <module>\n",
            "    from pip._vendor.rich.console import (\n",
            "  File \"/usr/local/lib/python3.10/dist-packages/pip/_vendor/rich/__init__.py\", line 17, in <module>\n",
            "    _IMPORT_CWD = os.path.abspath(os.getcwd())\n",
            "OSError: [Errno 107] Transport endpoint is not connected\n"
          ]
        }
      ]
    },
    {
      "cell_type": "code",
      "source": [
        "import nltk\n",
        "nltk.download('punkt')"
      ],
      "metadata": {
        "colab": {
          "base_uri": "https://localhost:8080/"
        },
        "id": "949hgEhjeOJn",
        "outputId": "fb6e9014-6bc8-4767-a828-5875f920d83b"
      },
      "execution_count": 7,
      "outputs": [
        {
          "output_type": "stream",
          "name": "stderr",
          "text": [
            "[nltk_data] Downloading package punkt to /root/nltk_data...\n",
            "[nltk_data]   Package punkt is already up-to-date!\n"
          ]
        },
        {
          "output_type": "execute_result",
          "data": {
            "text/plain": [
              "True"
            ]
          },
          "metadata": {},
          "execution_count": 7
        }
      ]
    },
    {
      "cell_type": "markdown",
      "source": [
        "Performing tokenisation, Removing stopwords, special characters, misspelled words (correct them if found)."
      ],
      "metadata": {
        "id": "7tih_UaXB4_X"
      }
    },
    {
      "cell_type": "code",
      "source": [
        "\n",
        "from textblob import TextBlob\n",
        "from nltk.corpus import stopwords\n",
        "from textblob import Word\n",
        "import re\n",
        "\n",
        "# Preprocessing\n",
        "\n",
        "def clean_text(text):\n",
        "    # Remove special characters and symbols\n",
        "    text = re.sub(r'[^A-Za-z0-9]+', ' ', text)\n",
        "    # Remove extra whitespaces\n",
        "    text = ' '.join(text.split())\n",
        "    # Convert to lowercase\n",
        "    text = text.lower()\n",
        "    return text\n",
        "\n",
        "df['Review'] = [clean_text(text) for text in df['Review']]\n",
        "\n",
        "from spellchecker import SpellChecker\n",
        "spell = SpellChecker()\n",
        "misspelled = spell.unknown(df['Review'])\n",
        "\n",
        "# Check if there are misspelled words\n",
        "if misspelled:\n",
        "    corrected_text = []\n",
        "    for text in df['Review']:\n",
        "        blob = TextBlob(text)\n",
        "        corrected_text.append(blob.correct())\n",
        "\n",
        "    # Update the 'Review' column with corrected text\n",
        "    df['Review'] = corrected_text\n",
        "else:\n",
        "    print(\"No misspelled words found, skipping correction\")\n",
        "\n",
        "# Display the DataFrame\n",
        "print(df)\n",
        "\n"
      ],
      "metadata": {
        "colab": {
          "base_uri": "https://localhost:8080/"
        },
        "id": "IOLH1IEYRz8_",
        "outputId": "7ea414e5-a831-4463-978f-e9931ef5dbf3"
      },
      "execution_count": 8,
      "outputs": [
        {
          "output_type": "stream",
          "name": "stdout",
          "text": [
            "No misspelled words found, skipping correction\n",
            "        name             location                     Date  Rating  \\\n",
            "0         A.           Ankeny, IA  Reviewed Sept. 13, 2023       1   \n",
            "1      DONNA          Phoenix, AZ   Reviewed Sept. 2, 2023       1   \n",
            "2       Jill      Baton Rouge, LA   Reviewed Aug. 28, 2023       1   \n",
            "3    Sukanya           Maumee, OH   Reviewed Aug. 25, 2023       1   \n",
            "4    Tiffany       Laurinburg, NC   Reviewed Aug. 18, 2023       1   \n",
            "..       ...                  ...                      ...     ...   \n",
            "295  Melissa       Texas City, TX   Reviewed Aug. 15, 2023       1   \n",
            "296    David  West Palm Beach, FL    Reviewed Aug. 8, 2023       1   \n",
            "297      Jay         Torrance, CA   Reviewed July 29, 2023       1   \n",
            "298  Theresa          Chester, PA   Reviewed July 27, 2023       1   \n",
            "299    Jenna       Waterville, OH   Reviewed July 21, 2023       1   \n",
            "\n",
            "                                                Review  \n",
            "0    the customer service is very bad i bought a br...  \n",
            "1    i have attempted to put this review on walmart...  \n",
            "2    i have been a walmart plus member for years no...  \n",
            "3    i refused a living room set that they sent one...  \n",
            "4    beware practices discriminatory preferential o...  \n",
            "..                                                 ...  \n",
            "295  i have spent hours on the phone with no resolu...  \n",
            "296  reading the previous complaints i can only con...  \n",
            "297  while it may be difficult to not shop at walma...  \n",
            "298  i updated my phone number and i was trying to ...  \n",
            "299  i bought a 75 inch tv online using walmart rig...  \n",
            "\n",
            "[300 rows x 5 columns]\n"
          ]
        }
      ]
    },
    {
      "cell_type": "code",
      "source": [
        "pip install nltk scikit-learn"
      ],
      "metadata": {
        "colab": {
          "base_uri": "https://localhost:8080/"
        },
        "id": "bzEv5B4T8DEE",
        "outputId": "8bc76c22-e1cf-4d65-f433-dd80c5493ef6"
      },
      "execution_count": 9,
      "outputs": [
        {
          "output_type": "stream",
          "name": "stdout",
          "text": [
            "Requirement already satisfied: nltk in /usr/local/lib/python3.10/dist-packages (3.8.1)\n",
            "Requirement already satisfied: scikit-learn in /usr/local/lib/python3.10/dist-packages (1.2.2)\n",
            "Requirement already satisfied: click in /usr/local/lib/python3.10/dist-packages (from nltk) (8.1.7)\n",
            "Requirement already satisfied: joblib in /usr/local/lib/python3.10/dist-packages (from nltk) (1.3.2)\n",
            "Requirement already satisfied: regex>=2021.8.3 in /usr/local/lib/python3.10/dist-packages (from nltk) (2023.6.3)\n",
            "Requirement already satisfied: tqdm in /usr/local/lib/python3.10/dist-packages (from nltk) (4.66.1)\n",
            "Requirement already satisfied: numpy>=1.17.3 in /usr/local/lib/python3.10/dist-packages (from scikit-learn) (1.23.5)\n",
            "Requirement already satisfied: scipy>=1.3.2 in /usr/local/lib/python3.10/dist-packages (from scikit-learn) (1.11.3)\n",
            "Requirement already satisfied: threadpoolctl>=2.0.0 in /usr/local/lib/python3.10/dist-packages (from scikit-learn) (3.2.0)\n"
          ]
        }
      ]
    },
    {
      "cell_type": "markdown",
      "source": [
        "Removing stopwords and lemmetising the words to their root form. running to 'run'."
      ],
      "metadata": {
        "id": "NZdlqrg_CR8i"
      }
    },
    {
      "cell_type": "code",
      "source": [
        "# Remove stopwords\n",
        "\n",
        "from nltk.stem import WordNetLemmatizer\n",
        "# Download NLTK data and initialize lemmatizer\n",
        "nltk.download('wordnet')\n",
        "nltk.download('stopwords')\n",
        "stop_words = set(stopwords.words('english'))\n",
        "lemmatizer = WordNetLemmatizer()\n",
        "\n",
        "def remove_stopwords_and_lemmatize(text):\n",
        "    words = text.split()  # Split the text into words\n",
        "    filtered_words = [word for word in words if word not in stop_words]\n",
        "    lemmatized_words = [lemmatizer.lemmatize(word) for word in filtered_words]\n",
        "    return \" \".join(lemmatized_words)\n",
        "\n",
        "# Remove stopwords and lemmatize in the 'Review' column\n",
        "df['Review'] = df['Review'].apply(remove_stopwords_and_lemmatize)\n",
        "\n",
        "# Display the DataFrame\n",
        "print(df)"
      ],
      "metadata": {
        "colab": {
          "base_uri": "https://localhost:8080/"
        },
        "id": "RK459SK0R9VQ",
        "outputId": "378ee4af-2a9a-4d7f-b4e3-23a8177fb0d7"
      },
      "execution_count": 10,
      "outputs": [
        {
          "output_type": "stream",
          "name": "stderr",
          "text": [
            "[nltk_data] Downloading package wordnet to /root/nltk_data...\n",
            "[nltk_data]   Package wordnet is already up-to-date!\n",
            "[nltk_data] Downloading package stopwords to /root/nltk_data...\n",
            "[nltk_data]   Package stopwords is already up-to-date!\n"
          ]
        },
        {
          "output_type": "stream",
          "name": "stdout",
          "text": [
            "        name             location                     Date  Rating  \\\n",
            "0         A.           Ankeny, IA  Reviewed Sept. 13, 2023       1   \n",
            "1      DONNA          Phoenix, AZ   Reviewed Sept. 2, 2023       1   \n",
            "2       Jill      Baton Rouge, LA   Reviewed Aug. 28, 2023       1   \n",
            "3    Sukanya           Maumee, OH   Reviewed Aug. 25, 2023       1   \n",
            "4    Tiffany       Laurinburg, NC   Reviewed Aug. 18, 2023       1   \n",
            "..       ...                  ...                      ...     ...   \n",
            "295  Melissa       Texas City, TX   Reviewed Aug. 15, 2023       1   \n",
            "296    David  West Palm Beach, FL    Reviewed Aug. 8, 2023       1   \n",
            "297      Jay         Torrance, CA   Reviewed July 29, 2023       1   \n",
            "298  Theresa          Chester, PA   Reviewed July 27, 2023       1   \n",
            "299    Jenna       Waterville, OH   Reviewed July 21, 2023       1   \n",
            "\n",
            "                                                Review  \n",
            "0    customer service bad bought breville barista p...  \n",
            "1    attempted put review walmart com indicates opt...  \n",
            "2    walmart plus member year well played really le...  \n",
            "3    refused living room set sent one week ahead sc...  \n",
            "4    beware practice discriminatory preferential or...  \n",
            "..                                                 ...  \n",
            "295  spent hour phone resolution since sunday done ...  \n",
            "296  reading previous complaint concur walmart memb...  \n",
            "297  may difficult shop walmart due obviously compe...  \n",
            "298  updated phone number trying log account update...  \n",
            "299  bought 75 inch tv online using walmart right b...  \n",
            "\n",
            "[300 rows x 5 columns]\n"
          ]
        }
      ]
    },
    {
      "cell_type": "markdown",
      "source": [
        "Performing Unsupervised Sentiment Analysis:"
      ],
      "metadata": {
        "id": "e2yYHUdoCiLU"
      }
    },
    {
      "cell_type": "code",
      "source": [
        "from textblob import TextBlob\n",
        "\n",
        "# Function to perform sentiment analysis and return sentiment labels\n",
        "def analyze_sentiment(text):\n",
        "    analysis = TextBlob(text)\n",
        "    # Assign sentiment labels based on polarity\n",
        "    if analysis.sentiment.polarity > 0:\n",
        "        return 'Positive'\n",
        "    elif analysis.sentiment.polarity < 0:\n",
        "        return 'Negative'\n",
        "    else:\n",
        "        return 'Neutral'\n",
        "\n",
        "# Apply sentiment analysis to each review in the 'Review' column\n",
        "df['Sentiment'] = [analyze_sentiment(text) for text in df['Review']]\n",
        "\n",
        "# Display the DataFrame with sentiment labels\n",
        "print(df)\n"
      ],
      "metadata": {
        "colab": {
          "base_uri": "https://localhost:8080/"
        },
        "id": "BPl1f2p2p5rH",
        "outputId": "8064bd75-5e25-47aa-aa94-328ae65349b5"
      },
      "execution_count": 11,
      "outputs": [
        {
          "output_type": "stream",
          "name": "stdout",
          "text": [
            "        name             location                     Date  Rating  \\\n",
            "0         A.           Ankeny, IA  Reviewed Sept. 13, 2023       1   \n",
            "1      DONNA          Phoenix, AZ   Reviewed Sept. 2, 2023       1   \n",
            "2       Jill      Baton Rouge, LA   Reviewed Aug. 28, 2023       1   \n",
            "3    Sukanya           Maumee, OH   Reviewed Aug. 25, 2023       1   \n",
            "4    Tiffany       Laurinburg, NC   Reviewed Aug. 18, 2023       1   \n",
            "..       ...                  ...                      ...     ...   \n",
            "295  Melissa       Texas City, TX   Reviewed Aug. 15, 2023       1   \n",
            "296    David  West Palm Beach, FL    Reviewed Aug. 8, 2023       1   \n",
            "297      Jay         Torrance, CA   Reviewed July 29, 2023       1   \n",
            "298  Theresa          Chester, PA   Reviewed July 27, 2023       1   \n",
            "299    Jenna       Waterville, OH   Reviewed July 21, 2023       1   \n",
            "\n",
            "                                                Review Sentiment  \n",
            "0    customer service bad bought breville barista p...  Negative  \n",
            "1    attempted put review walmart com indicates opt...  Positive  \n",
            "2    walmart plus member year well played really le...  Negative  \n",
            "3    refused living room set sent one week ahead sc...  Positive  \n",
            "4    beware practice discriminatory preferential or...  Positive  \n",
            "..                                                 ...       ...  \n",
            "295  spent hour phone resolution since sunday done ...  Positive  \n",
            "296  reading previous complaint concur walmart memb...  Negative  \n",
            "297  may difficult shop walmart due obviously compe...  Negative  \n",
            "298  updated phone number trying log account update...  Positive  \n",
            "299  bought 75 inch tv online using walmart right b...  Positive  \n",
            "\n",
            "[300 rows x 6 columns]\n"
          ]
        }
      ]
    },
    {
      "cell_type": "markdown",
      "source": [
        "Lets check numbers of positive and negative reviews per location."
      ],
      "metadata": {
        "id": "jZ_N1Hd7CvId"
      }
    },
    {
      "cell_type": "code",
      "source": [
        "\n",
        "\n",
        "# Assuming 'df' is your DataFrame with 'Location' and 'Sentiment' columns\n",
        "\n",
        "# Group by location and sentiment, then count the occurrences\n",
        "location_sentiment_counts = df.groupby(['location', 'Sentiment']).size().unstack(fill_value=0)\n",
        "\n",
        "# Calculate the total positive and total negative per location\n",
        "location_sentiment_counts['Total Positive'] = location_sentiment_counts['Positive']\n",
        "location_sentiment_counts['Total Negative'] = location_sentiment_counts['Negative']\n",
        "\n",
        "# Optionally, you can drop the 'Positive' and 'Negative' columns if you only want 'Total Positive' and 'Total Negative'\n",
        "location_sentiment_counts = location_sentiment_counts[['Total Positive', 'Total Negative']]\n",
        "\n",
        "print(location_sentiment_counts)\n"
      ],
      "metadata": {
        "colab": {
          "base_uri": "https://localhost:8080/"
        },
        "id": "LX0vUPPzp7X6",
        "outputId": "c191f2a6-a60a-4983-b991-c82d2df50557"
      },
      "execution_count": 12,
      "outputs": [
        {
          "output_type": "stream",
          "name": "stdout",
          "text": [
            "Sentiment            Total Positive  Total Negative\n",
            "location                                           \n",
            "Ankeny, IA                        0              30\n",
            "Baton Rouge, LA                   0              30\n",
            "Chester, PA                      30               0\n",
            "Laurinburg, NC                   30               0\n",
            "Maumee, OH                       30               0\n",
            "Phoenix, AZ                      30               0\n",
            "Texas City, TX                   30               0\n",
            "Torrance, CA                      0              30\n",
            "Waterville, OH                   30               0\n",
            "West Palm Beach, FL               0              30\n"
          ]
        }
      ]
    },
    {
      "cell_type": "markdown",
      "source": [
        "Lets plot the numbers based on total numbers of positive and total number of negative opinions."
      ],
      "metadata": {
        "id": "tHsBPST1C7wO"
      }
    },
    {
      "cell_type": "code",
      "source": [
        "import matplotlib.pyplot as plt\n",
        "# Assuming 'df' is your DataFrame with a 'Sentiment' column\n",
        "\n",
        "# Count the number of opinions in each sentiment category\n",
        "sentiment_counts = df['Sentiment'].value_counts()\n",
        "\n",
        "# Create a bar chart to visualize the sentiment counts\n",
        "plt.figure(figsize=(8, 6))\n",
        "sentiment_counts.plot(kind='bar', color=['green', 'red', 'blue'])\n",
        "plt.title('Sentiment Distribution')\n",
        "plt.xlabel('Sentiment')\n",
        "plt.ylabel('Number of Opinions')\n",
        "plt.xticks(rotation=0)\n",
        "plt.show()"
      ],
      "metadata": {
        "id": "1mMhePfu34-9",
        "colab": {
          "base_uri": "https://localhost:8080/",
          "height": 564
        },
        "outputId": "b82a5ab3-298b-4b4c-f281-fe5fb10e89ea"
      },
      "execution_count": 14,
      "outputs": [
        {
          "output_type": "display_data",
          "data": {
            "text/plain": [
              "<Figure size 800x600 with 1 Axes>"
            ],
            "image/png": "[encoded data removed]"
          },
          "metadata": {}
        }
      ]
    },
    {
      "cell_type": "markdown",
      "source": [
        "Lets plot data with non-zero positive and negative reviews by locations."
      ],
      "metadata": {
        "id": "6P5MjhIVDRMI"
      }
    },
    {
      "cell_type": "code",
      "source": [
        "\n",
        "\n",
        "# Assuming 'df' is your DataFrame with 'Location' and 'Sentiment' columns\n",
        "\n",
        "# Filter data for positive and negative sentiments\n",
        "positive_reviews = df[df['Sentiment'] == 'Positive']\n",
        "negative_reviews = df[df['Sentiment'] == 'Negative']\n",
        "\n",
        "# Count positive and negative reviews per location\n",
        "positive_counts = positive_reviews['location'].value_counts()\n",
        "negative_counts = negative_reviews['location'].value_counts()\n",
        "\n",
        "# Find locations with the highest positive and negative reviews\n",
        "highest_positive_location = positive_counts.idxmax()\n",
        "highest_negative_location = negative_counts.idxmax()\n",
        "\n",
        "# Plotting the bar chart\n",
        "plt.figure(figsize=(10, 6))\n",
        "\n",
        "# Bar chart for positive reviews per location\n",
        "plt.bar(positive_counts.index, positive_counts, color='lightgreen', label='Positive')\n",
        "plt.bar(negative_counts.index, negative_counts, color='lightcoral', label='Negative')\n",
        "\n",
        "\n",
        "plt.title('Sentiment Distribution per Location')\n",
        "plt.xlabel('Location')\n",
        "plt.ylabel('Number of Reviews')\n",
        "plt.xticks(rotation=45, ha='right')\n",
        "plt.legend()\n",
        "plt.tight_layout()\n",
        "plt.show()\n"
      ],
      "metadata": {
        "colab": {
          "base_uri": "https://localhost:8080/",
          "height": 607
        },
        "id": "ciFzzZTGuYvg",
        "outputId": "2da36f89-01f4-4ee9-a5f0-fc91e6de81ae"
      },
      "execution_count": 15,
      "outputs": [
        {
          "output_type": "display_data",
          "data": {
            "text/plain": [
              "<Figure size 1000x600 with 1 Axes>"
            ],
            "image/png": "[encoded data removed]"
          },
          "metadata": {}
        }
      ]
    },
    {
      "cell_type": "markdown",
      "source": [
        "Next, We'll use NLTK for lemmatization and the Scikit-Learn library for feature selection. Additionally, we'll perform TF-IDF (Term Frequency-Inverse Document Frequency) feature extraction for the sentiment analysis on df['Review']."
      ],
      "metadata": {
        "id": "Ax0qnZk7Ddlj"
      }
    },
    {
      "cell_type": "code",
      "source": [
        "from sklearn.feature_extraction.text import TfidfVectorizer\n",
        "from sklearn.model_selection import train_test_split\n",
        "from sklearn.naive_bayes import MultinomialNB\n",
        "from sklearn.feature_selection import SelectKBest, chi2\n",
        "from sklearn.metrics import accuracy_score\n"
      ],
      "metadata": {
        "id": "Ms3AXARbvInF"
      },
      "execution_count": 16,
      "outputs": []
    },
    {
      "cell_type": "code",
      "source": [
        "# Split data into features and labels\n",
        "X = df['Review']\n",
        "y = df['Sentiment']\n",
        "\n",
        "# Feature extraction using TF-IDF\n",
        "tfidf_vectorizer = TfidfVectorizer()\n",
        "X_tfidf = tfidf_vectorizer.fit_transform(X)\n",
        "\n",
        "# Feature selection using chi-squared test\n",
        "k_best = SelectKBest(score_func=chi2, k=2)\n",
        "X_selected = k_best.fit_transform(X_tfidf, y)\n",
        "\n",
        "# Split data into training and testing sets\n",
        "X_train, X_test, y_train, y_test = train_test_split(X_selected, y, test_size=0.2, random_state=42)\n",
        "\n",
        "# Train a simple text classification model (Naive Bayes)\n",
        "classifier = MultinomialNB()\n",
        "classifier.fit(X_train, y_train)\n",
        "\n",
        "# Make predictions on the test set\n",
        "y_pred = classifier.predict(X_test)\n",
        "\n",
        "# Evaluate the model\n",
        "accuracy = accuracy_score(y_test, y_pred)\n",
        "print(f\"Accuracy: {accuracy}\")"
      ],
      "metadata": {
        "colab": {
          "base_uri": "https://localhost:8080/"
        },
        "id": "9-BE199u8gFl",
        "outputId": "e656b3da-4dd4-4392-bcc1-304c74453ffe"
      },
      "execution_count": 17,
      "outputs": [
        {
          "output_type": "stream",
          "name": "stdout",
          "text": [
            "Accuracy: 0.6166666666666667\n"
          ]
        }
      ]
    },
    {
      "cell_type": "markdown",
      "source": [
        "An accuracy of 61% in a text classification task means that the model correctly predicted the sentiment of approximately 61% of the test data samples. In the context of sentiment analysis, this accuracy indicates that the model is moderately effective in classifying text as positive or negative based on the features and techniques used.\n",
        "\n",
        "It's important to consider that while 61% accuracy may be better than random guessing (50% for a binary classification task), it might not be sufficient for practical applications, especially if high accuracy is required. The effectiveness of a 61% accuracy model depends on the specific goals and requirements of the project.\n",
        "\n",
        "Some considerations:\n",
        "\n",
        "    Balanced vs. Imbalanced Classes: If the dataset has imbalanced classes (i.e., significantly more positive or negative examples), accuracy might not be the best metric to evaluate model performance. You may want to look at other metrics like precision, recall, or F1-score.\n",
        "\n",
        "    Feature Selection and Model Choice: The accuracy can be improved by fine-tuning feature selection techniques, using more advanced models, or exploring more sophisticated sentiment analysis approaches, such as deep learning models like LSTM or BERT-based models.\n",
        "\n",
        "    Data Quality and Size: The quality and quantity of the training data can significantly impact model accuracy. Larger, high-quality datasets can lead to better results.\n",
        "\n",
        "    Domain-specific Challenges: Some domains have nuances and context-specific language that require more specialized models and features to achieve higher accuracy.\n",
        "\n",
        "In summary, while a 61% accuracy can be a starting point, you should continue to improve the model by experimenting with different techniques and approaches to achieve the desired level of accuracy for your specific sentiment analysis task."
      ],
      "metadata": {
        "id": "T4fR6RExEm5-"
      }
    },
    {
      "cell_type": "markdown",
      "source": [
        "Lets plot the confusion metrics."
      ],
      "metadata": {
        "id": "UsmkVa7tD7Wc"
      }
    },
    {
      "cell_type": "code",
      "source": [
        "from sklearn.metrics import classification_report\n",
        "from sklearn.metrics import accuracy_score, confusion_matrix\n",
        "from sklearn.metrics import accuracy_score, precision_score, recall_score, f1_score\n",
        "import seaborn as sns\n",
        "# Generate and plot the confusion matrix\n",
        "conf_matrix = confusion_matrix(y_test, y_pred)\n",
        "\n",
        "# Plot the confusion matrix as a heatmap\n",
        "plt.figure(figsize=(8, 6))\n",
        "sns.heatmap(conf_matrix, annot=True, fmt=\"d\", cmap=\"Blues\", xticklabels=['Negative', 'Positive'], yticklabels=['Negative', 'Positive'])\n",
        "plt.xlabel('Predicted')\n",
        "plt.ylabel('Actual')\n",
        "plt.title('Confusion Matrix')\n",
        "plt.show()"
      ],
      "metadata": {
        "colab": {
          "base_uri": "https://localhost:8080/",
          "height": 564
        },
        "id": "xz3_9ZUe9Fwt",
        "outputId": "4a78a729-2c3d-49f6-8caf-d852a3d064da"
      },
      "execution_count": 18,
      "outputs": [
        {
          "output_type": "display_data",
          "data": {
            "text/plain": [
              "<Figure size 800x600 with 2 Axes>"
            ],
            "image/png": "[encoded data removed]"
          },
          "metadata": {}
        }
      ]
    },
    {
      "cell_type": "markdown",
      "source": [
        "Although we have performed Sentiment Analsyis based on TextBlob, Unsupervised methods often rely on lexicons, patterns, or statistical approaches to gauge sentiment in a text without the need for training on labeled data.\n",
        "\n",
        "There are various unsupervised sentiment analysis approaches you can consider:\n",
        "\n",
        "    Lexicon-Based Approaches: These approaches use sentiment lexicons or dictionaries containing words associated with positive and negative sentiment. You can calculate sentiment scores by matching words in the text with the lexicon entries and summing their scores.\n",
        "\n",
        "    Rule-Based Approaches: Rule-based methods involve defining a set of rules or patterns that identify sentiment in text. These rules can capture sentiment-bearing phrases and expressions.\n",
        "\n",
        "    VADER (Valence Aware Dictionary and sEntiment Reasoner): VADER is a lexicon and rule-based sentiment analysis tool that considers not only the polarity of words but also their context and intensity.\n",
        "\n",
        "    Topic Modeling: Unsupervised topic modeling techniques like Latent Dirichlet Allocation (LDA) can be used to discover topics in text, which may indirectly reveal sentiment.\n",
        "\n",
        "    Word Embeddings: Techniques like Word2Vec and GloVe can be used to create word embeddings, which can then be used to analyze sentiment indirectly.\n",
        "\n",
        "Unsupervised sentiment analysis can be a useful approach when you don't have labeled data for training supervised models. However, it may not be as accurate as supervised methods, especially for complex and nuanced sentiment analysis tasks. The choice of method depends on your specific use case and the availability of labeled data."
      ],
      "metadata": {
        "id": "nart3BReHEAg"
      }
    },
    {
      "cell_type": "code",
      "source": [],
      "metadata": {
        "id": "lNh-d7M49vtT"
      },
      "execution_count": 18,
      "outputs": []
    }
  ]
}